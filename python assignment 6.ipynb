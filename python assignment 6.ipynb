{
 "cells": [
  {
   "cell_type": "markdown",
   "metadata": {},
   "source": [
    "ANSWER 1:\n",
    "\n",
    "Object-oriented programming:\n",
    "Object-oriented programming (OOP) refers to a type of computer programming (software design) in which programmers define the data type of a data structure, and also the types of operations (functions) that can be applied to the data structure.\n",
    "In this way, the data structure becomes an object that includes both data and functions. In addition, programmers can create relationships between one object and another. For example, objects can inherit characteristics from other objects.\n",
    "\n",
    "ANSWER 2:\n",
    "Benifits Of OOP:\n",
    "One of the principal advantages of object-oriented programming techniques over procedural programming techniques is that they enable programmers to create modules that do not need to be changed when a new type of object is added. A programmer can simply create a new object that inherits many of its features from existing objects. This makes object-oriented programs easier to modify.\n",
    "•\tModularity for easier troubleshooting. Something has gone wrong, and you have no idea where to look. ...\n",
    "•\tReuse of code through inheritance. ...\n",
    "•\tFlexibility through polymorphism. ...\n",
    "•\tEffective problem solving.\n",
    "\n",
    "\n",
    "ANSWER 3:\n",
    "Function And Method:\n",
    "A function is a piece of code that is called by name. It can be passed data to operate on (i.e. the parameters) and can optionally return data (the return value). All data that is passed to a function is explicitly passed.\n",
    "A method is a piece of code that is called by a name that is associated with an object. In most respects it is identical to a function except for two key differences:\n",
    "1\tA method is implicitly passed the object on which it was called.\n",
    "2\tA method is able to operate on data that is contained within the class (remembering that an object is an instance of a class: the class is the definition, the object is an instance of that data).\n",
    "\n",
    "\n",
    "Answer 4:\n",
    "1-\tClass:\n",
    "\n",
    "A class is a code template for creating objects. In python a class is created by the keyword class .\n",
    "\n",
    "2-\tobject\n",
    "\n",
    "Objects have member variables and have behaviour associated with them. An object is created using the constructor of the class. This object will then be called the instance of the class.\n",
    "\n",
    "3- attribute\n",
    "\n",
    "An instance attribute is a Python variable belonging to one, and only one, object. ... A class attribute is a Python variable that belongs to a class rather than a particular object. It is shared between all the objects of this class and it is defined outside the constructor function, __init__(self,...) , of the class.\n",
    "4-\tBehavior:\n",
    "\n",
    "Objects in Python are generally classified according to their behaviors and the features that they implement. For example, all of the sequence types such as strings, lists, and tuples are grouped together merely because they all happen to support a common set of sequence operations such as s[n], len(s), etc. All basic interpreter operations are implemented through special object methods. The names of special methods are always preceded and followed by double underscores (__). These methods are automatically triggered by the interpreter as a program executes. For example, the operation x + y is mapped to an internal method, x.__add__(y), and an indexing operation, x[k], is mapped to x.__getitem__(k). The behavior of each data type depends entirely on the set of special methods that it implements.\n",
    "User-defined classes can define new objects that behave like the built-in types simply by supplying an appropriate subset of the special methods described in this section. In addition, built-in types such as lists and dictionaries can be specialized (via inheritance) by redefining some of the special methods.\n"
   ]
  },
  {
   "cell_type": "code",
   "execution_count": 5,
   "metadata": {},
   "outputs": [],
   "source": [
    "# Question 5\n",
    "\n",
    "# Creates class Car\n",
    "class Car:\n",
    "\n",
    "    # create class attributes\n",
    "    name = \"Mehran\"\n",
    "    company = \"Suzuki\"\n",
    "    model = 2006\n",
    "    color = \"White\"\n",
    "    idno = 109\n",
    "    \n",
    "\n",
    "    # create class methods\n",
    "    def start(self):\n",
    "        print (\"start\")\n",
    "\n",
    "    def stop(self):\n",
    "        print (\"Engine off\")\n",
    "        \n",
    "    def play(radio):\n",
    "        print(\"Radio played\")\n",
    "        \n",
    "# Creates car_a object of Car class\n",
    "car_a = Car()\n",
    "\n",
    "# Creates car_b object of car class\n",
    "car_b = Car()\n",
    "    \n",
    "# Creates car_c object of car class\n",
    "car_bc = Car()"
   ]
  },
  {
   "cell_type": "code",
   "execution_count": 6,
   "metadata": {},
   "outputs": [
    {
     "name": "stdout",
     "output_type": "stream",
     "text": [
      "<class '__main__.Car'>\n"
     ]
    }
   ],
   "source": [
    "print(type(car_b))"
   ]
  },
  {
   "cell_type": "code",
   "execution_count": 7,
   "metadata": {},
   "outputs": [
    {
     "name": "stdout",
     "output_type": "stream",
     "text": [
      "start\n"
     ]
    }
   ],
   "source": [
    "car_b.start()"
   ]
  },
  {
   "cell_type": "code",
   "execution_count": 8,
   "metadata": {},
   "outputs": [
    {
     "name": "stdout",
     "output_type": "stream",
     "text": [
      "2006\n"
     ]
    }
   ],
   "source": [
    "print(car_b.model)"
   ]
  },
  {
   "cell_type": "code",
   "execution_count": null,
   "metadata": {},
   "outputs": [],
   "source": []
  }
 ],
 "metadata": {
  "kernelspec": {
   "display_name": "Python 3",
   "language": "python",
   "name": "python3"
  },
  "language_info": {
   "codemirror_mode": {
    "name": "ipython",
    "version": 3
   },
   "file_extension": ".py",
   "mimetype": "text/x-python",
   "name": "python",
   "nbconvert_exporter": "python",
   "pygments_lexer": "ipython3",
   "version": "3.7.3"
  }
 },
 "nbformat": 4,
 "nbformat_minor": 2
}
