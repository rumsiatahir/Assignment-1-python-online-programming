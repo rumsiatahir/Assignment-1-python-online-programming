{
 "cells": [
  {
   "cell_type": "code",
   "execution_count": 1,
   "metadata": {},
   "outputs": [
    {
     "name": "stdout",
     "output_type": "stream",
     "text": [
      "enter marks out of 100 79\n",
      "enter marks out of 100 98\n",
      "enter marks out of 100 76\n",
      "enter marks out of 100 63\n",
      "enter marks out of 100 45\n",
      "totalmarks = 361\n",
      "percentage = 72.2\n",
      "grade C\n"
     ]
    }
   ],
   "source": [
    "  marks=[] \n",
    "totalmarks=0; \n",
    "for i in range (5): \n",
    "    x=int(input(\"enter marks out of 100\")) \n",
    "   \n",
    "    marks.append(x) \n",
    "    totalmarks=totalmarks+x \n",
    "    \n",
    "print(\"totalmarks =\",totalmarks) \n",
    "percentage=(totalmarks/500)*100\n",
    "print(\"percentage =\",percentage)\n",
    "if percentage>=90: print(\"grade A\") \n",
    "elif percentage>=80: print(\"grade B\") \n",
    "elif percentage>=70: print(\"grade C\") \n",
    "elif percentage>=60: print(\"grade D\") \n",
    "else: print(\"fail\") \n"
   ]
  },
  {
   "cell_type": "code",
   "execution_count": 2,
   "metadata": {},
   "outputs": [
    {
     "name": "stdout",
     "output_type": "stream",
     "text": [
      "enter number10\n",
      "even no\n"
     ]
    }
   ],
   "source": [
    "x=int(input(\"enter number\"))\n",
    "if x%2==0:\n",
    "    print(\"even no\") \n",
    "else: \n",
    "    print(\"odd no\") "
   ]
  },
  {
   "cell_type": "code",
   "execution_count": 3,
   "metadata": {},
   "outputs": [
    {
     "name": "stdout",
     "output_type": "stream",
     "text": [
      "7\n"
     ]
    }
   ],
   "source": [
    "list=[25,26,39,54,59,68,71]\n",
    "print(len(list)) \n"
   ]
  },
  {
   "cell_type": "code",
   "execution_count": 8,
   "metadata": {},
   "outputs": [
    {
     "name": "stdout",
     "output_type": "stream",
     "text": [
      "Sum of all elements in given list:  197\n",
      "Sum of all elements in given list:  202\n",
      "Sum of all elements in given list:  219\n",
      "Sum of all elements in given list:  237\n",
      "Sum of all elements in given list:  260\n"
     ]
    }
   ],
   "source": [
    "list1 = [11, 5, 17, 18, 23]  \n",
    "for ele in range(0, len(list1)): \n",
    "    total = total + list1[ele] \n",
    "    print(\"Sum of all elements in given list: \", total) "
   ]
  },
  {
   "cell_type": "code",
   "execution_count": 9,
   "metadata": {},
   "outputs": [
    {
     "name": "stdout",
     "output_type": "stream",
     "text": [
      "65\n"
     ]
    }
   ],
   "source": [
    "list=[26,29,53,48,65] \n",
    "print(max(list)) \n"
   ]
  },
  {
   "cell_type": "code",
   "execution_count": 10,
   "metadata": {},
   "outputs": [
    {
     "name": "stdout",
     "output_type": "stream",
     "text": [
      "1\n",
      "1\n",
      "2\n",
      "3\n"
     ]
    }
   ],
   "source": [
    "list=[1,1,2,3,5,8,13,21,34,55,89] \n",
    "x=len(list) \n",
    "for i in range(x):\n",
    "    if list[i]<5:\n",
    "        print(list[i]) "
   ]
  },
  {
   "cell_type": "code",
   "execution_count": null,
   "metadata": {},
   "outputs": [],
   "source": []
  }
 ],
 "metadata": {
  "kernelspec": {
   "display_name": "Python 3",
   "language": "python",
   "name": "python3"
  },
  "language_info": {
   "codemirror_mode": {
    "name": "ipython",
    "version": 3
   },
   "file_extension": ".py",
   "mimetype": "text/x-python",
   "name": "python",
   "nbconvert_exporter": "python",
   "pygments_lexer": "ipython3",
   "version": "3.7.4"
  }
 },
 "nbformat": 4,
 "nbformat_minor": 2
}
